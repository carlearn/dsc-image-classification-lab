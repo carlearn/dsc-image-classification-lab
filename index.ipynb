{
 "cells": [
  {
   "cell_type": "markdown",
   "metadata": {},
   "source": [
    "# Image Classification - Lab\n",
    "\n",
    "## Introduction\n",
    "\n",
    "Now that you have a working knowledge of CNNs and have practiced implementing associated techniques in Keras, its time to put all of those skills together. In this lab, you'll work to complete a [Kaggle competition](https://www.kaggle.com/c/dog-breed-identification) on classifying dog breeds.\n",
    "\n",
    "\n",
    "## Objectives\n",
    "\n",
    "In this lab you will: \n",
    "\n",
    "- Compare and apply multiple techniques for tuning a model using data augmentation and pretrained models  \n",
    "\n",
    "## Download and Load the Data\n",
    "\n",
    "Start by downloading the data locally and loading it into a Pandas DataFrame. Be forewarned that this dataset is fairly large and it is advisable to close other memory intensive applications.\n",
    "\n",
    "The data can be found [here](https://www.kaggle.com/c/dog-breed-identification/data).\n",
    "\n",
    "It's easiest if you download the data into this directory on your local computer. From there, be sure to uncompress the folder and subfolders. If you download the data elsewhere, be sure to modify the file path when importing the file below."
   ]
  },
  {
   "cell_type": "code",
   "execution_count": null,
   "metadata": {},
   "outputs": [],
   "source": [
    "# No code per se, but download and decompress the data"
   ]
  },
  {
   "cell_type": "markdown",
   "metadata": {},
   "source": [
    "## Preprocessing\n",
    "\n",
    "Now that you've downloaded the data, its time to prepare it for some model building! You'll notice that the current structure provided is not the same as our lovely preprocessed folders that you've been given to date. Instead, you have one large training folder with images and a csv file with labels associated with each of these file types. \n",
    "\n",
    "Use this to create a directory substructure for a train-validation-test split as we have done previously. Also recall that you'll also want to use one-hot encoding as you are now presented with a multi-class problem as opposed to simple binary classification."
   ]
  },
  {
   "cell_type": "code",
   "execution_count": 1,
   "metadata": {},
   "outputs": [],
   "source": [
    "# Your code here; open the labels.csv file stored in the zip file\n",
    "import pandas as pd"
   ]
  },
  {
   "cell_type": "code",
   "execution_count": 2,
   "metadata": {},
   "outputs": [
    {
     "name": "stdout",
     "output_type": "stream",
     "text": [
      "Baseline_CNN.h5                  history_vgg19_10epochs.pickle\r\n",
      "Baseline_CNN_dog_subset_run2.h5  index.ipynb\r\n",
      "CONTRIBUTING.md                  multiclass_cnfmatx.png\r\n",
      "LICENSE.md                       vgg19_3breeds_4epochs.h5\r\n",
      "README.md                        vgg19_FE_AUG_10epochs.h5\r\n",
      "\u001b[34mdata_org_subset\u001b[m\u001b[m/                 vgg19_FE_AUG_15epochs.h5\r\n",
      "\u001b[34mdog_breed\u001b[m\u001b[m/\r\n"
     ]
    }
   ],
   "source": [
    "ls"
   ]
  },
  {
   "cell_type": "code",
   "execution_count": 3,
   "metadata": {},
   "outputs": [
    {
     "data": {
      "text/html": [
       "<div>\n",
       "<style scoped>\n",
       "    .dataframe tbody tr th:only-of-type {\n",
       "        vertical-align: middle;\n",
       "    }\n",
       "\n",
       "    .dataframe tbody tr th {\n",
       "        vertical-align: top;\n",
       "    }\n",
       "\n",
       "    .dataframe thead th {\n",
       "        text-align: right;\n",
       "    }\n",
       "</style>\n",
       "<table border=\"1\" class=\"dataframe\">\n",
       "  <thead>\n",
       "    <tr style=\"text-align: right;\">\n",
       "      <th></th>\n",
       "      <th>id</th>\n",
       "      <th>breed</th>\n",
       "    </tr>\n",
       "  </thead>\n",
       "  <tbody>\n",
       "    <tr>\n",
       "      <th>0</th>\n",
       "      <td>000bec180eb18c7604dcecc8fe0dba07</td>\n",
       "      <td>boston_bull</td>\n",
       "    </tr>\n",
       "    <tr>\n",
       "      <th>1</th>\n",
       "      <td>001513dfcb2ffafc82cccf4d8bbaba97</td>\n",
       "      <td>dingo</td>\n",
       "    </tr>\n",
       "    <tr>\n",
       "      <th>2</th>\n",
       "      <td>001cdf01b096e06d78e9e5112d419397</td>\n",
       "      <td>pekinese</td>\n",
       "    </tr>\n",
       "    <tr>\n",
       "      <th>3</th>\n",
       "      <td>00214f311d5d2247d5dfe4fe24b2303d</td>\n",
       "      <td>bluetick</td>\n",
       "    </tr>\n",
       "    <tr>\n",
       "      <th>4</th>\n",
       "      <td>0021f9ceb3235effd7fcde7f7538ed62</td>\n",
       "      <td>golden_retriever</td>\n",
       "    </tr>\n",
       "  </tbody>\n",
       "</table>\n",
       "</div>"
      ],
      "text/plain": [
       "                                 id             breed\n",
       "0  000bec180eb18c7604dcecc8fe0dba07       boston_bull\n",
       "1  001513dfcb2ffafc82cccf4d8bbaba97             dingo\n",
       "2  001cdf01b096e06d78e9e5112d419397          pekinese\n",
       "3  00214f311d5d2247d5dfe4fe24b2303d          bluetick\n",
       "4  0021f9ceb3235effd7fcde7f7538ed62  golden_retriever"
      ]
     },
     "execution_count": 3,
     "metadata": {},
     "output_type": "execute_result"
    }
   ],
   "source": [
    "df = pd.read_csv('dog_breed/labels.csv')\n",
    "df.head()"
   ]
  },
  {
   "cell_type": "code",
   "execution_count": 4,
   "metadata": {},
   "outputs": [
    {
     "name": "stdout",
     "output_type": "stream",
     "text": [
      "000bec180eb18c7604dcecc8fe0dba07.jpg\r\n",
      "001513dfcb2ffafc82cccf4d8bbaba97.jpg\r\n",
      "001cdf01b096e06d78e9e5112d419397.jpg\r\n",
      "00214f311d5d2247d5dfe4fe24b2303d.jpg\r\n",
      "0021f9ceb3235effd7fcde7f7538ed62.jpg\r\n"
     ]
    }
   ],
   "source": [
    "ls dog_breed/train/ | head -5"
   ]
  },
  {
   "cell_type": "markdown",
   "metadata": {},
   "source": [
    "\n",
    "In order to input the data into our standard pipeline, you'll need to organize the image files into a nested folder structure. At the top level will be a folder for the training data, a folder for the validation data, and a folder for the test data. Within these top directory folders, you'll then need to create a folder for each of the categorical classes (in this case, dog breeds). Finally, within these category folders you'll then place each of the associated image files. To save time, do this for just 3 of the dog breeds such as `'boston_bull'`, `'toy_poodle'`, and `'scottish_deerhound'`.\n",
    "\n",
    "You're nested file structure should look like this:\n",
    "* train\n",
    "    * category_1\n",
    "    * category_2\n",
    "    * category_3\n",
    "    ...\n",
    "* val\n",
    "    * category_1\n",
    "    * category_2\n",
    "    * category_3\n",
    "    ...\n",
    "* test \n",
    "    * category_1\n",
    "    * category_2\n",
    "    * category_3\n",
    "    ...  \n",
    "\n",
    "> **Hint**: To do this, you can use the `os` module which will you can use to execute many common bash commands straight from your python interpreter. For example, here's how you could make a new folder: \n",
    "\n",
    "```python\n",
    "import os\n",
    "os.mkdir('New_Folder_Name')\n",
    "```\n",
    "Start by creating top level folders for the train, validation, and test sets. Then, use your pandas DataFrame to split the example images for each breed of dog into a 80% train set, and 10% validation and test sets. Use `os.path.join()` with the information from the DataFrame to construct the relevant file path. With this, place the relevant images using the `shutil.copy()` into the appropriate directory. \n",
    "\n",
    ">> **Note**: It is worthwhile to try this exercise on your own, but you can also use the images stored under the `'data_org_subset/'` folder of this repository, in which the Kaggle dataset has already been subset and preprocessed."
   ]
  },
  {
   "cell_type": "code",
   "execution_count": 8,
   "metadata": {},
   "outputs": [
    {
     "name": "stdout",
     "output_type": "stream",
     "text": [
      "Number of unique breeds: 120\n",
      "scottish_deerhound      126\n",
      "maltese_dog             117\n",
      "afghan_hound            116\n",
      "entlebucher             115\n",
      "bernese_mountain_dog    114\n",
      "shih-tzu                112\n",
      "pomeranian              111\n",
      "great_pyrenees          111\n",
      "basenji                 110\n",
      "samoyed                 109\n",
      "Name: breed, dtype: int64\n"
     ]
    }
   ],
   "source": [
    "# Your code here; transform the image files and then load them into Keras as tensors \n",
    "# (be sure to perform a train-val-test split)\n",
    "print('Number of unique breeds:', df.breed.nunique())\n",
    "print(df.breed.value_counts()[:10])"
   ]
  },
  {
   "cell_type": "code",
   "execution_count": 7,
   "metadata": {},
   "outputs": [
    {
     "name": "stdout",
     "output_type": "stream",
     "text": [
      "Moving boston_bull pictures.\n",
      "Split 87 imgs into 69 train, 9 val, and 9 test examples.\n"
     ]
    },
    {
     "ename": "FileNotFoundError",
     "evalue": "[Errno 2] No such file or directory: 'dog_breeds/train/c0d10ee669b1ccc5bc60950efd19cd53.jpg'",
     "output_type": "error",
     "traceback": [
      "\u001b[0;31m---------------------------------------------------------------------------\u001b[0m",
      "\u001b[0;31mFileNotFoundError\u001b[0m                         Traceback (most recent call last)",
      "\u001b[0;32m<ipython-input-7-542f8193cee1>\u001b[0m in \u001b[0;36m<module>\u001b[0;34m\u001b[0m\n\u001b[1;32m     34\u001b[0m             destination = os.path.join(new_root_dir \n\u001b[1;32m     35\u001b[0m                                        + dir_names[i] + '/' + breed + '/' + filename)\n\u001b[0;32m---> 36\u001b[0;31m             \u001b[0mshutil\u001b[0m\u001b[0;34m.\u001b[0m\u001b[0mcopy\u001b[0m\u001b[0;34m(\u001b[0m\u001b[0morigin\u001b[0m\u001b[0;34m,\u001b[0m \u001b[0mdestination\u001b[0m\u001b[0;34m)\u001b[0m\u001b[0;34m\u001b[0m\u001b[0;34m\u001b[0m\u001b[0m\n\u001b[0m",
      "\u001b[0;32m~/opt/anaconda3/envs/learn-env/lib/python3.6/shutil.py\u001b[0m in \u001b[0;36mcopy\u001b[0;34m(src, dst, follow_symlinks)\u001b[0m\n\u001b[1;32m    243\u001b[0m     \u001b[0;32mif\u001b[0m \u001b[0mos\u001b[0m\u001b[0;34m.\u001b[0m\u001b[0mpath\u001b[0m\u001b[0;34m.\u001b[0m\u001b[0misdir\u001b[0m\u001b[0;34m(\u001b[0m\u001b[0mdst\u001b[0m\u001b[0;34m)\u001b[0m\u001b[0;34m:\u001b[0m\u001b[0;34m\u001b[0m\u001b[0;34m\u001b[0m\u001b[0m\n\u001b[1;32m    244\u001b[0m         \u001b[0mdst\u001b[0m \u001b[0;34m=\u001b[0m \u001b[0mos\u001b[0m\u001b[0;34m.\u001b[0m\u001b[0mpath\u001b[0m\u001b[0;34m.\u001b[0m\u001b[0mjoin\u001b[0m\u001b[0;34m(\u001b[0m\u001b[0mdst\u001b[0m\u001b[0;34m,\u001b[0m \u001b[0mos\u001b[0m\u001b[0;34m.\u001b[0m\u001b[0mpath\u001b[0m\u001b[0;34m.\u001b[0m\u001b[0mbasename\u001b[0m\u001b[0;34m(\u001b[0m\u001b[0msrc\u001b[0m\u001b[0;34m)\u001b[0m\u001b[0;34m)\u001b[0m\u001b[0;34m\u001b[0m\u001b[0;34m\u001b[0m\u001b[0m\n\u001b[0;32m--> 245\u001b[0;31m     \u001b[0mcopyfile\u001b[0m\u001b[0;34m(\u001b[0m\u001b[0msrc\u001b[0m\u001b[0;34m,\u001b[0m \u001b[0mdst\u001b[0m\u001b[0;34m,\u001b[0m \u001b[0mfollow_symlinks\u001b[0m\u001b[0;34m=\u001b[0m\u001b[0mfollow_symlinks\u001b[0m\u001b[0;34m)\u001b[0m\u001b[0;34m\u001b[0m\u001b[0;34m\u001b[0m\u001b[0m\n\u001b[0m\u001b[1;32m    246\u001b[0m     \u001b[0mcopymode\u001b[0m\u001b[0;34m(\u001b[0m\u001b[0msrc\u001b[0m\u001b[0;34m,\u001b[0m \u001b[0mdst\u001b[0m\u001b[0;34m,\u001b[0m \u001b[0mfollow_symlinks\u001b[0m\u001b[0;34m=\u001b[0m\u001b[0mfollow_symlinks\u001b[0m\u001b[0;34m)\u001b[0m\u001b[0;34m\u001b[0m\u001b[0;34m\u001b[0m\u001b[0m\n\u001b[1;32m    247\u001b[0m     \u001b[0;32mreturn\u001b[0m \u001b[0mdst\u001b[0m\u001b[0;34m\u001b[0m\u001b[0;34m\u001b[0m\u001b[0m\n",
      "\u001b[0;32m~/opt/anaconda3/envs/learn-env/lib/python3.6/shutil.py\u001b[0m in \u001b[0;36mcopyfile\u001b[0;34m(src, dst, follow_symlinks)\u001b[0m\n\u001b[1;32m    118\u001b[0m         \u001b[0mos\u001b[0m\u001b[0;34m.\u001b[0m\u001b[0msymlink\u001b[0m\u001b[0;34m(\u001b[0m\u001b[0mos\u001b[0m\u001b[0;34m.\u001b[0m\u001b[0mreadlink\u001b[0m\u001b[0;34m(\u001b[0m\u001b[0msrc\u001b[0m\u001b[0;34m)\u001b[0m\u001b[0;34m,\u001b[0m \u001b[0mdst\u001b[0m\u001b[0;34m)\u001b[0m\u001b[0;34m\u001b[0m\u001b[0;34m\u001b[0m\u001b[0m\n\u001b[1;32m    119\u001b[0m     \u001b[0;32melse\u001b[0m\u001b[0;34m:\u001b[0m\u001b[0;34m\u001b[0m\u001b[0;34m\u001b[0m\u001b[0m\n\u001b[0;32m--> 120\u001b[0;31m         \u001b[0;32mwith\u001b[0m \u001b[0mopen\u001b[0m\u001b[0;34m(\u001b[0m\u001b[0msrc\u001b[0m\u001b[0;34m,\u001b[0m \u001b[0;34m'rb'\u001b[0m\u001b[0;34m)\u001b[0m \u001b[0;32mas\u001b[0m \u001b[0mfsrc\u001b[0m\u001b[0;34m:\u001b[0m\u001b[0;34m\u001b[0m\u001b[0;34m\u001b[0m\u001b[0m\n\u001b[0m\u001b[1;32m    121\u001b[0m             \u001b[0;32mwith\u001b[0m \u001b[0mopen\u001b[0m\u001b[0;34m(\u001b[0m\u001b[0mdst\u001b[0m\u001b[0;34m,\u001b[0m \u001b[0;34m'wb'\u001b[0m\u001b[0;34m)\u001b[0m \u001b[0;32mas\u001b[0m \u001b[0mfdst\u001b[0m\u001b[0;34m:\u001b[0m\u001b[0;34m\u001b[0m\u001b[0;34m\u001b[0m\u001b[0m\n\u001b[1;32m    122\u001b[0m                 \u001b[0mcopyfileobj\u001b[0m\u001b[0;34m(\u001b[0m\u001b[0mfsrc\u001b[0m\u001b[0;34m,\u001b[0m \u001b[0mfdst\u001b[0m\u001b[0;34m)\u001b[0m\u001b[0;34m\u001b[0m\u001b[0;34m\u001b[0m\u001b[0m\n",
      "\u001b[0;31mFileNotFoundError\u001b[0m: [Errno 2] No such file or directory: 'dog_breeds/train/c0d10ee669b1ccc5bc60950efd19cd53.jpg'"
     ]
    }
   ],
   "source": [
    "import numpy as np\n",
    "import os, shutil\n",
    "\n",
    "old_dir = 'dog_breeds/train/'\n",
    "\n",
    "new_root_dir = 'data_org_subset/'\n",
    "# Because this cell has already been run and this directory now exists, \n",
    "# running this cell again will throw an error\n",
    "os.mkdir(new_root_dir) \n",
    "\n",
    "dir_names = ['train', 'val', 'test']\n",
    "for d in dir_names:\n",
    "    new_dir = os.path.join(new_root_dir, d)\n",
    "    os.mkdir(new_dir)\n",
    "    \n",
    "for breed in ['boston_bull', 'toy_poodle', 'scottish_deerhound']:\n",
    "    print('Moving {} pictures.'.format(breed))\n",
    "    # Create sub_directories\n",
    "    for d in dir_names:\n",
    "        new_dir = os.path.join(new_root_dir, d, breed)\n",
    "        os.mkdir(new_dir)\n",
    "    # Subset dataframe into train, validate and split sets\n",
    "    # Split is performed here to ensure maintain class distributions.\n",
    "    temp = df[df.breed == breed]\n",
    "    train, validate, test = np.split(temp.sample(frac=1), [int(.8*len(temp)), int(.9*len(temp))])\n",
    "    print('Split {} imgs into {} train, {} val, and {} test examples.'.format(len(temp),\n",
    "                                                                              len(train),\n",
    "                                                                              len(validate),\n",
    "                                                                              len(test)))\n",
    "    for i, temp in enumerate([train, validate, test]):\n",
    "        for row in temp.index:\n",
    "            filename = temp['id'][row] + '.jpg'\n",
    "            origin = os.path.join(old_dir + filename)\n",
    "            destination = os.path.join(new_root_dir \n",
    "                                       + dir_names[i] + '/' + breed + '/' + filename)\n",
    "            shutil.copy(origin, destination)"
   ]
  },
  {
   "cell_type": "code",
   "execution_count": 9,
   "metadata": {},
   "outputs": [
    {
     "name": "stderr",
     "output_type": "stream",
     "text": [
      "Using TensorFlow backend.\n"
     ]
    },
    {
     "name": "stdout",
     "output_type": "stream",
     "text": [
      "Found 233 images belonging to 3 classes.\n",
      "Found 30 images belonging to 3 classes.\n"
     ]
    }
   ],
   "source": [
    "# Your code here\n",
    "from keras.preprocessing.image import ImageDataGenerator\n",
    "\n",
    "train_dir = '{}train'.format(new_root_dir)\n",
    "\n",
    "validation_dir = '{}val/'.format(new_root_dir)\n",
    "test_dir = '{}test/'.format(new_root_dir)\n",
    "\n",
    "# All images will be rescaled by 1./255\n",
    "train_datagen = ImageDataGenerator(rescale=1./255)\n",
    "test_datagen = ImageDataGenerator(rescale=1./255)\n",
    "\n",
    "train_generator = train_datagen.flow_from_directory(\n",
    "        # This is the target directory\n",
    "        train_dir,\n",
    "        # All images will be resized to 150x150\n",
    "        target_size=(150, 150),\n",
    "        batch_size=20,\n",
    "        class_mode='categorical')\n",
    "\n",
    "validation_generator = test_datagen.flow_from_directory(validation_dir, \n",
    "                                                        target_size=(150, 150), \n",
    "                                                        batch_size=20, \n",
    "                                                        class_mode='categorical')"
   ]
  },
  {
   "cell_type": "code",
   "execution_count": 10,
   "metadata": {},
   "outputs": [
    {
     "data": {
      "text/plain": [
       "{'boston_bull': 0, 'scottish_deerhound': 1, 'toy_poodle': 2}"
      ]
     },
     "execution_count": 10,
     "metadata": {},
     "output_type": "execute_result"
    }
   ],
   "source": [
    "train_generator.class_indices"
   ]
  },
  {
   "cell_type": "markdown",
   "metadata": {},
   "source": [
    "## Optional: Build a Baseline CNN\n",
    "\n",
    "This is an optional step. Adapting a pretrained model will produce better results, but it may be interesting to create a CNN from scratch as a baseline. If you wish to, do so here."
   ]
  },
  {
   "cell_type": "code",
   "execution_count": 11,
   "metadata": {},
   "outputs": [],
   "source": [
    "import datetime\n",
    "\n",
    "original_start = datetime.datetime.now()\n",
    "start = datetime.datetime.now()"
   ]
  },
  {
   "cell_type": "code",
   "execution_count": 12,
   "metadata": {},
   "outputs": [
    {
     "name": "stdout",
     "output_type": "stream",
     "text": [
      "Epoch 1/10\n",
      "100/100 [==============================] - 108s 1s/step - loss: 1.0364 - acc: 0.4729 - val_loss: 0.9779 - val_acc: 0.5667\n",
      "Epoch 2/10\n",
      "100/100 [==============================] - 103s 1s/step - loss: 0.8027 - acc: 0.6534 - val_loss: 0.7443 - val_acc: 0.7000\n",
      "Epoch 3/10\n",
      "100/100 [==============================] - 97s 967ms/step - loss: 0.6013 - acc: 0.7680 - val_loss: 0.8530 - val_acc: 0.6667\n",
      "Epoch 4/10\n",
      "100/100 [==============================] - 99s 985ms/step - loss: 0.4561 - acc: 0.8220 - val_loss: 1.0152 - val_acc: 0.7000\n",
      "Epoch 5/10\n",
      "100/100 [==============================] - 98s 981ms/step - loss: 0.3191 - acc: 0.8790 - val_loss: 1.0896 - val_acc: 0.6667\n",
      "Epoch 6/10\n",
      "100/100 [==============================] - 92s 917ms/step - loss: 0.1896 - acc: 0.9351 - val_loss: 1.3492 - val_acc: 0.6667\n",
      "Epoch 7/10\n",
      "100/100 [==============================] - 106s 1s/step - loss: 0.1050 - acc: 0.9712 - val_loss: 1.3430 - val_acc: 0.7667\n",
      "Epoch 8/10\n",
      "100/100 [==============================] - 103s 1s/step - loss: 0.0581 - acc: 0.9850 - val_loss: 1.5035 - val_acc: 0.7000\n",
      "Epoch 9/10\n",
      "100/100 [==============================] - 97s 967ms/step - loss: 0.0459 - acc: 0.9865 - val_loss: 1.6770 - val_acc: 0.7667\n",
      "Epoch 10/10\n",
      "100/100 [==============================] - 95s 952ms/step - loss: 0.0683 - acc: 0.9864 - val_loss: 1.8550 - val_acc: 0.7667\n",
      "Training took a total of 0:16:37.619345\n"
     ]
    }
   ],
   "source": [
    "from keras import layers\n",
    "from keras import models\n",
    "from keras import optimizers\n",
    "import datetime\n",
    "\n",
    "original_start = datetime.datetime.now()\n",
    "start = datetime.datetime.now()\n",
    "\n",
    "model = models.Sequential()\n",
    "model.add(layers.Conv2D(32, (3, 3), activation='relu',\n",
    "                        input_shape=(150, 150, 3)))\n",
    "model.add(layers.MaxPooling2D((2, 2)))\n",
    "model.add(layers.Conv2D(64, (3, 3), activation='relu'))\n",
    "model.add(layers.MaxPooling2D((2, 2)))\n",
    "model.add(layers.Conv2D(128, (3, 3), activation='relu'))\n",
    "model.add(layers.MaxPooling2D((2, 2)))\n",
    "model.add(layers.Conv2D(128, (3, 3), activation='relu'))\n",
    "model.add(layers.MaxPooling2D((2, 2)))\n",
    "model.add(layers.Flatten())\n",
    "model.add(layers.Dense(64, activation='relu'))\n",
    "model.add(layers.Dense(128, activation='relu'))\n",
    "model.add(layers.Dense(256, activation='relu'))\n",
    "model.add(layers.Dense(512, activation='relu'))\n",
    "model.add(layers.Dense(3, activation='softmax'))\n",
    "\n",
    "\n",
    "model.compile(loss='categorical_crossentropy',\n",
    "              optimizer=optimizers.RMSprop(lr=1e-4),\n",
    "              metrics=['acc'])\n",
    "\n",
    "history = model.fit_generator(train_generator,\n",
    "                              steps_per_epoch=100,\n",
    "                              epochs=10,\n",
    "                              validation_data=validation_generator,\n",
    "                              validation_steps=50)\n",
    "\n",
    "end = datetime.datetime.now()\n",
    "elapsed = end - start\n",
    "print('Training took a total of {}'.format(elapsed))"
   ]
  },
  {
   "cell_type": "code",
   "execution_count": 13,
   "metadata": {},
   "outputs": [
    {
     "data": {
      "image/png": "[encoded data removed]",
      "text/plain": [
       "<Figure size 432x288 with 1 Axes>"
      ]
     },
     "metadata": {
      "needs_background": "light"
     },
     "output_type": "display_data"
    },
    {
     "data": {
      "image/png": "[encoded data removed]",
      "text/plain": [
       "<Figure size 432x288 with 1 Axes>"
      ]
     },
     "metadata": {
      "needs_background": "light"
     },
     "output_type": "display_data"
    }
   ],
   "source": [
    "import matplotlib.pyplot as plt\n",
    "%matplotlib inline \n",
    "\n",
    "acc = history.history['acc']\n",
    "val_acc = history.history['val_acc']\n",
    "loss = history.history['loss']\n",
    "val_loss = history.history['val_loss']\n",
    "epochs = range(len(acc))\n",
    "plt.plot(epochs, acc, 'bo', label='Training acc')\n",
    "plt.plot(epochs, val_acc, 'b', label='Validation acc')\n",
    "plt.title('Training and validation accuracy')\n",
    "plt.legend()\n",
    "plt.figure()\n",
    "plt.plot(epochs, loss, 'bo', label='Training loss')\n",
    "plt.plot(epochs, val_loss, 'b', label='Validation loss')\n",
    "plt.title('Training and validation loss')\n",
    "plt.legend()\n",
    "plt.show()"
   ]
  },
  {
   "cell_type": "code",
   "execution_count": 14,
   "metadata": {},
   "outputs": [],
   "source": [
    "model.save('Baseline_CNN_dog_subset_run2.h5')"
   ]
  },
  {
   "cell_type": "code",
   "execution_count": 15,
   "metadata": {},
   "outputs": [
    {
     "name": "stdout",
     "output_type": "stream",
     "text": [
      "Found 30 images belonging to 3 classes.\n",
      "Generated 810 predictions\n",
      "test acc: 0.7333333293596903\n"
     ]
    }
   ],
   "source": [
    "test_generator = test_datagen.flow_from_directory(test_dir,\n",
    "                                                  target_size=(150, 150),\n",
    "                                                  batch_size=20,\n",
    "                                                  class_mode='categorical',\n",
    "                                                  shuffle=False)\n",
    "\n",
    "test_loss, test_acc = model.evaluate_generator(test_generator, steps=54)\n",
    "y_hat_test = model.predict_generator(test_generator, steps=54)\n",
    "print('Generated {} predictions'.format(len(y_hat_test)))\n",
    "print('test acc:', test_acc)"
   ]
  },
  {
   "cell_type": "markdown",
   "metadata": {},
   "source": [
    "## Loading a Pretrained CNN\n",
    "\n",
    "## Feature Engineering with the Pretrained Model\n",
    "\n",
    "As you may well have guessed, adapting a pretrained model will undoubtedly produce better results then a fresh CNN due to the limited size of training data. Import a pretrained model such as VGG-19 to use a convolutional base. Use this to transform the dataset into a rich feature space and add a few fully connected layers on top of the pretrained layers to build a classification model. (Be sure to leave the pretrained model frozen!)"
   ]
  },
  {
   "cell_type": "code",
   "execution_count": 16,
   "metadata": {},
   "outputs": [
    {
     "name": "stdout",
     "output_type": "stream",
     "text": [
      "Downloading data from https://github.com/fchollet/deep-learning-models/releases/download/v0.1/vgg19_weights_tf_dim_ordering_tf_kernels_notop.h5\n",
      "80142336/80134624 [==============================] - 7s 0us/step\n",
      "vgg19 False\n",
      "flatten_2 True\n",
      "dense_6 True\n",
      "dense_7 True\n",
      "dense_8 True\n",
      "dense_9 True\n",
      "dense_10 True\n",
      "10\n",
      "_________________________________________________________________\n",
      "Layer (type)                 Output Shape              Param #   \n",
      "=================================================================\n",
      "vgg19 (Model)                (None, 7, 7, 512)         20024384  \n",
      "_________________________________________________________________\n",
      "flatten_2 (Flatten)          (None, 25088)             0         \n",
      "_________________________________________________________________\n",
      "dense_6 (Dense)              (None, 64)                1605696   \n",
      "_________________________________________________________________\n",
      "dense_7 (Dense)              (None, 128)               8320      \n",
      "_________________________________________________________________\n",
      "dense_8 (Dense)              (None, 256)               33024     \n",
      "_________________________________________________________________\n",
      "dense_9 (Dense)              (None, 128)               32896     \n",
      "_________________________________________________________________\n",
      "dense_10 (Dense)             (None, 3)                 387       \n",
      "=================================================================\n",
      "Total params: 21,704,707\n",
      "Trainable params: 1,680,323\n",
      "Non-trainable params: 20,024,384\n",
      "_________________________________________________________________\n"
     ]
    }
   ],
   "source": [
    "# Your code here; add fully connected layers on top of the convolutional base\n",
    "# from keras.preprocessing.image import ImageDataGenerator, array_to_img\n",
    "\n",
    "# Initialize Base\n",
    "from keras.applications import VGG19\n",
    "cnn_base = VGG19(weights='imagenet',\n",
    "                 include_top=False,\n",
    "                 input_shape=(240, 240, 3))\n",
    "\n",
    "# Define Model Architecture\n",
    "model = models.Sequential()\n",
    "model.add(cnn_base)\n",
    "model.add(layers.Flatten())\n",
    "model.add(layers.Dense(64, activation='relu'))\n",
    "model.add(layers.Dense(128, activation='relu'))\n",
    "model.add(layers.Dense(256, activation='relu'))\n",
    "model.add(layers.Dense(128, activation='relu'))\n",
    "model.add(layers.Dense(3, activation='softmax'))\n",
    "\n",
    "cnn_base.trainable = False\n",
    "\n",
    "# You can check whether a layer is trainable (or alter its setting) through \n",
    "# the layer.trainable attribute\n",
    "for layer in model.layers:\n",
    "    print(layer.name, layer.trainable)\n",
    "    \n",
    "# Similarly, we can check how many trainable weights are in the model \n",
    "print(len(model.trainable_weights))\n",
    "\n",
    "model.summary()"
   ]
  },
  {
   "cell_type": "code",
   "execution_count": 17,
   "metadata": {},
   "outputs": [
    {
     "name": "stdout",
     "output_type": "stream",
     "text": [
      "Found 233 images belonging to 3 classes.\n",
      "Found 30 images belonging to 3 classes.\n",
      "Found 30 images belonging to 3 classes.\n",
      "Epoch 1/4\n",
      "8/8 [==============================] - 211s 26s/step - loss: 1.0588 - acc: 0.4388 - val_loss: 1.0568 - val_acc: 0.4333\n",
      "Epoch 2/4\n",
      "8/8 [==============================] - 224s 28s/step - loss: 1.0831 - acc: 0.3812 - val_loss: 1.0322 - val_acc: 0.4333\n",
      "Epoch 3/4\n",
      "8/8 [==============================] - 221s 28s/step - loss: 1.0235 - acc: 0.4861 - val_loss: 1.0087 - val_acc: 0.4333\n",
      "Epoch 4/4\n",
      "8/8 [==============================] - 238s 30s/step - loss: 1.0105 - acc: 0.4921 - val_loss: 0.9936 - val_acc: 0.4333\n",
      "Training took a total of 0:14:55.717541\n"
     ]
    }
   ],
   "source": [
    "# Preprocessing/Problem Setup\n",
    "new_root_dir = 'data_org_subset/'\n",
    "\n",
    "train_dir = '{}train'.format(new_root_dir)\n",
    "validation_dir = '{}val/'.format(new_root_dir)\n",
    "test_dir = '{}test/'.format(new_root_dir)\n",
    "\n",
    "original_start = datetime.datetime.now()\n",
    "start = datetime.datetime.now()\n",
    "\n",
    "# Define Initial Parameters (same as previous code block)\n",
    "datagen = ImageDataGenerator(rescale=1./255) \n",
    "batch_size = 10\n",
    "\n",
    "# Get all the data in the directory split/train (542 images), and reshape them\n",
    "train_datagen = ImageDataGenerator(rescale=1./255,\n",
    "                                   rotation_range=40,\n",
    "                                   width_shift_range=0.2,\n",
    "                                   height_shift_range=0.2,\n",
    "                                   shear_range=0.2,\n",
    "                                   zoom_range=0.2,\n",
    "                                   horizontal_flip=True,\n",
    "                                   fill_mode='nearest')\n",
    "\n",
    "\n",
    "test_datagen = ImageDataGenerator(rescale=1./255,\n",
    "                                  rotation_range=40,\n",
    "                                  width_shift_range=0.2,\n",
    "                                  height_shift_range=0.2,\n",
    "                                  shear_range=0.2,\n",
    "                                  zoom_range=0.2,\n",
    "                                  horizontal_flip=True,\n",
    "                                  fill_mode='nearest')\n",
    "\n",
    "train_generator = train_datagen.flow_from_directory(train_dir, \n",
    "                                                    target_size=(240, 240), \n",
    "                                                    batch_size= 20,\n",
    "                                                    class_mode='categorical') \n",
    "\n",
    "# Get all the data in the directory split/validation (200 images), and reshape them\n",
    "val_generator = ImageDataGenerator(rescale=1./255).flow_from_directory(validation_dir, \n",
    "                                                                       target_size=(240, 240), \n",
    "                                                                       batch_size=20,\n",
    "                                                                       class_mode='categorical')\n",
    "\n",
    "# Get all the data in the directory split/test (180 images), and reshape them\n",
    "test_generator = ImageDataGenerator(rescale=1./255).flow_from_directory(test_dir, \n",
    "                                                                        target_size=(240, 240), \n",
    "                                                                        batch_size=180,\n",
    "                                                                        class_mode='categorical',\n",
    "                                                                        shuffle=False)\n",
    "\n",
    "        \n",
    "test_images, test_labels = next(test_generator)\n",
    "\n",
    "\n",
    "# Compilation\n",
    "model.compile(loss='categorical_crossentropy',\n",
    "              optimizer=optimizers.RMSprop(lr=2e-5),\n",
    "              metrics=['acc'])\n",
    "\n",
    "# Fitting the Model\n",
    "history = model.fit_generator(train_generator,\n",
    "                              steps_per_epoch=8,\n",
    "                              epochs=4,\n",
    "                              validation_data=val_generator,\n",
    "                              validation_steps=10)\n",
    "\n",
    "\n",
    "end = datetime.datetime.now()\n",
    "elapsed = end - start\n",
    "print('Training took a total of {}'.format(elapsed))"
   ]
  },
  {
   "cell_type": "markdown",
   "metadata": {},
   "source": [
    "## Visualize History\n",
    "\n",
    "Now fit the model and visualize the training and validation accuracy/loss functions over successive epochs."
   ]
  },
  {
   "cell_type": "code",
   "execution_count": 18,
   "metadata": {},
   "outputs": [
    {
     "data": {
      "image/png": "[encoded data removed]",
      "text/plain": [
       "<Figure size 432x288 with 1 Axes>"
      ]
     },
     "metadata": {
      "needs_background": "light"
     },
     "output_type": "display_data"
    },
    {
     "data": {
      "image/png": "[encoded data removed]",
      "text/plain": [
       "<Figure size 432x288 with 1 Axes>"
      ]
     },
     "metadata": {
      "needs_background": "light"
     },
     "output_type": "display_data"
    }
   ],
   "source": [
    "# visualize the training / validation history associated with fitting the model\n",
    "\n",
    "import matplotlib.pyplot as plt\n",
    "%matplotlib inline \n",
    "\n",
    "acc = history.history['acc']\n",
    "val_acc = history.history['val_acc']\n",
    "loss = history.history['loss']\n",
    "val_loss = history.history['val_loss']\n",
    "epochs = range(len(acc))\n",
    "plt.plot(epochs, acc, 'bo', label='Training acc')\n",
    "plt.plot(epochs, val_acc, 'b', label='Validation acc')\n",
    "plt.title('Training and validation accuracy')\n",
    "plt.legend()\n",
    "plt.figure()\n",
    "plt.plot(epochs, loss, 'bo', label='Training loss')\n",
    "plt.plot(epochs, val_loss, 'b', label='Validation loss')\n",
    "plt.title('Training and validation loss')\n",
    "plt.legend()\n",
    "plt.show()"
   ]
  },
  {
   "cell_type": "code",
   "execution_count": 19,
   "metadata": {},
   "outputs": [],
   "source": [
    "# Save model\n",
    "model.save('vgg19_3breeds_4epochs.h5')"
   ]
  },
  {
   "cell_type": "code",
   "execution_count": 20,
   "metadata": {},
   "outputs": [],
   "source": [
    "import pickle\n",
    "\n",
    "with open('history_vgg19__3breeds_4epochs.pickle', 'wb') as f:\n",
    "    # Pickle the 'data' dictionary using the highest protocol available\n",
    "    pickle.dump(history, f, pickle.HIGHEST_PROTOCOL)"
   ]
  },
  {
   "cell_type": "markdown",
   "metadata": {},
   "source": [
    "## Final Model Evaluation\n",
    "\n",
    "Now that you've trained and validated the model, perform a final evaluation of the model on the test set."
   ]
  },
  {
   "cell_type": "code",
   "execution_count": 21,
   "metadata": {},
   "outputs": [
    {
     "name": "stdout",
     "output_type": "stream",
     "text": [
      "Found 30 images belonging to 3 classes.\n",
      "Generated 810 predictions\n",
      "test acc: 0.44074075052767625\n"
     ]
    }
   ],
   "source": [
    "test_generator = test_datagen.flow_from_directory(test_dir,\n",
    "                                                  target_size=(240, 240),\n",
    "                                                  batch_size=20,\n",
    "                                                  class_mode='categorical',\n",
    "                                                  shuffle=False)\n",
    "\n",
    "test_loss, test_acc = model.evaluate_generator(test_generator, steps=54)\n",
    "y_hat_test = model.predict_generator(test_generator, steps=54)\n",
    "print('Generated {} predictions'.format(len(y_hat_test)))\n",
    "print('test acc:', test_acc)"
   ]
  },
  {
   "cell_type": "markdown",
   "metadata": {},
   "source": [
    "## Summary\n",
    "\n",
    "Congratulations! In this lab, you brought all of your prior deep learning skills together from preprocessing including one-hot encoding, to adapting a pretrained model. There are always ongoing advancements in CNN architectures and best practices, but you have a solid foundation and understanding at this point."
   ]
  }
 ],
 "metadata": {
  "kernelspec": {
   "display_name": "Python 3",
   "language": "python",
   "name": "python3"
  },
  "language_info": {
   "codemirror_mode": {
    "name": "ipython",
    "version": 3
   },
   "file_extension": ".py",
   "mimetype": "text/x-python",
   "name": "python",
   "nbconvert_exporter": "python",
   "pygments_lexer": "ipython3",
   "version": "3.6.9"
  }
 },
 "nbformat": 4,
 "nbformat_minor": 2
}
